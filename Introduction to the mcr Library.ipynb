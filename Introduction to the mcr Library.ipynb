{
 "cells": [
  {
   "cell_type": "markdown",
   "metadata": {},
   "source": [
    "# An Introduction to the `mcr` Library\n",
    "\n",
    "This notebook is an overview to the `mcr` library for creating and studying the Minimum Constraint Removal (MCR) problem.\n",
    "\n",
    "It is not an introduction to the problem itself. Please refer to Hauser's [introduction](https://pdfs.semanticscholar.org/153e/a4fb187bd0dbda27a51979ff8f09c478bf59.pdf) or the restriction of it to the plane [by Erickson and LaValle](https://pdfs.semanticscholar.org/5363/00838eeb4eefe9bde1cc9e105047f6ca554e.pdf?_ga=1.121233224.1753756452.1479176681) for more information; both are very readable.\n",
    "\n",
    "In brief, the problem space is a number of shapes, called __obstacles__, which are placed on a __configuration space__, a square in the plane. They can overlap each other, many times over if wanted. If they overlap the borders of the configuration space, that part is ignored. In addition, there are two points, called the __start__ and __goal__ placed somewhere in the configuration space as well. The __cover__ of any point in the plane is the set of obstacles present at that point. A solution to the MCR problem finds the fewest number of obstacles (the minimum *constraint*) which need to be removed for an unblocked path to be present between the start and goal.\n",
    "\n",
    "![basic](basic.pdf)\n",
    "\n",
    "We're not looking for a specific 2-D path through the plane, but rather a list of sections, overlapped or not, which we'll need to pass through—the MCR Problem is *discrete*. The problem can be applied to non-spatial instances; its name, \"constraint\" removal, hints at this.\n",
    "\n",
    "Whether the full problem or the restricted, MCR is NP-hard.\n",
    "\n",
    "## Setting Up Your Environment\n",
    "\n",
    "Let's make the reasonable assumption that you have Jupyter running (as you're reading this in a Jupyter notebook right now!) and also that you have a recent version of Python, e.g., 3.6.\n",
    "\n",
    "There are several libraries required by `mcr` that you'll need to install, for graphs (`networkx`), geometric operations (`shapely`), etc., and it's no help that these, like many Python mathematical libraries, are thin wrappers over C++ or Fortran code which need to be built, compiled, linked, etc. on your computer.\n",
    "\n",
    "Don't do this from scratch: use [conda](https://conda.io/docs/). Download [Anaconda](https://www.continuum.io) or install conda yourself. The easiest thing to do is to create a new environment to load all this in, then load it, then run this again.\n",
    "\n",
    "```bash\n",
    "> conda create --name min_constraint\n",
    "> source activate min_constraint\n",
    "> conda install python=3.6\n",
    "> conda update python\n",
    "> conda install jupyter\n",
    "> conda install pip\n",
    "> conda install networkx\n",
    "> pip install shapely\n",
    "> ...etc.\n",
    "```\n",
    "\n",
    "We've created and entered a new environment, installed (if it's not already) and updated (if it's not already) Python, updated Jupyter, and begun to install all the other libraries. If you can't install something with `conda`, you probably can with `pip`.\n",
    "\n",
    "This isn't a Python tutorial: let's press on."
   ]
  },
  {
   "cell_type": "markdown",
   "metadata": {},
   "source": [
    "## Setting Up the Notebook\n",
    "\n",
    "We need to set up the Jupyter notebook to display figures properly and import our libraries. You may need to add more libraries; these are what's needed at minimum to run MCR and to easily use the component libraries."
   ]
  },
  {
   "cell_type": "code",
   "execution_count": null,
   "metadata": {
    "collapsed": false
   },
   "outputs": [],
   "source": [
    "# magic\n",
    "%matplotlib inline\n",
    "\n",
    "# TODO: comment each line\n",
    "# imports - standard library\n",
    "import random as rand\n",
    "from math import *\n",
    "\n",
    "# imports - standard for Jupyter\n",
    "import matplotlib\n",
    "import matplotlib.pyplot as plt\n",
    "\n",
    "# imports - additional libraries\n",
    "import networkx as nx\n",
    "import shapely\n",
    "from shapely.geometry import *\n",
    "from shapely.affinity import *\n",
    "from shapely.prepared import prep\n",
    "\n",
    "# mcr\n",
    "from mcr import *\n",
    "\n",
    "# make inline figures large\n",
    "from pylab import rcParams\n",
    "rcParams['figure.figsize'] = (10, 10) # set this to (8, 8) for smaller output"
   ]
  },
  {
   "cell_type": "markdown",
   "metadata": {},
   "source": [
    "Let's start by creating a configuration space by hand. A new MCR object does not have any obstacles in it, but it does have start- and endpoints at $(0.01, 0.01)$ and $(0.99, 0.99)$ respectively."
   ]
  },
  {
   "cell_type": "code",
   "execution_count": null,
   "metadata": {
    "collapsed": true
   },
   "outputs": [],
   "source": [
    "# Create an empty square\n",
    "square = MCR()\n",
    "\n",
    "# Add a couple of shapes to the square\n",
    "shape1 = Polygon([(0.2,0.2), (0.2, 0.7), (0.7,0.7), (0.7,0.2)])\n",
    "shape2 = Polygon([(0.5,0.15), (1.0,0.15), (.75, .87)])\n",
    "shape3 = Polygon([(0.0, 0.2), (0.0, 0.5), (0.3, 0.5), (0.3,0.2)])\n",
    "\n",
    "# change its color? Why not!?\n",
    "shape1.facecolor = 'pink'\n",
    "\n",
    "square.add_obstacle(shape1)\n",
    "square.add_obstacle(shape2)\n",
    "square.add_obstacle(shape3)\n",
    "\n",
    "# Move the start and goal\n",
    "square.start = Point(0.05, 0.05)\n",
    "square.goal  = Point(0.95, 0.95)"
   ]
  },
  {
   "cell_type": "markdown",
   "metadata": {},
   "source": [
    "Let's display this. Notice that the bounds of the configuration space are the unit square from $[0,0]$ to $[1,1]$. Any part of a shape which extends past this will be removed."
   ]
  },
  {
   "cell_type": "code",
   "execution_count": null,
   "metadata": {
    "collapsed": false,
    "scrolled": true
   },
   "outputs": [],
   "source": [
    "square.show(graph_labels=True)"
   ]
  },
  {
   "cell_type": "markdown",
   "metadata": {},
   "source": [
    "(Setting `graph_labels=false` or ignoring it will not show labels.)\n",
    "\n",
    "Each object has a label, whether it's shown or not. A graph is created, and each parts of the space, as represented by a node in this graph is labeled by its __cover__, the set of objects covering it. More than one object may have the same cover, of course."
   ]
  },
  {
   "cell_type": "markdown",
   "metadata": {},
   "source": [
    "## Loading from an SVG\n",
    "\n",
    "Complicated configurations can be described most easily in pictures. `mcr` allows for creating MCR objects from SVG images. (Most vector graphics programs can output in SVG format, and it's human-readable as well.) Use the optional `svg=` argument in the constructor."
   ]
  },
  {
   "cell_type": "code",
   "execution_count": null,
   "metadata": {
    "collapsed": false,
    "scrolled": true
   },
   "outputs": [],
   "source": [
    "shapes = MCR(svg='shapes.svg')\n",
    "shapes.show()"
   ]
  },
  {
   "cell_type": "markdown",
   "metadata": {},
   "source": [
    "`shapes.show()` is equivalent to:\n",
    "```python\n",
    "shapes.plot_obstacles()\n",
    "shapes.plot_graph(labels=False)\n",
    "shapes.setup_axes()\n",
    "plt.show()\n",
    "```\n",
    "\n",
    "There are nine SVG's included with this library, mostly for debugging purposes.\n",
    "\n",
    "For more complicated displays, you'll need to do this yourself; that's okay, there are lots of primitives for drawing obstacles and graphs.\n",
    "\n",
    "Note too that it's easy to change the default appearance of these renditions by setting `MCR.shape_opts`, `MCR.point_opts`, `MCR.nx_opts`, `MCR.featured_opts`, etc. Check the source code."
   ]
  },
  {
   "cell_type": "markdown",
   "metadata": {},
   "source": [
    "## Additional components\n",
    "\n",
    "Besides the MCR class, there are a few helper methods in `mcr` for easily creating interesting configuration spaces. `random_MCR(n)` add $n$ randomly dispersed obstacles to a space."
   ]
  },
  {
   "cell_type": "code",
   "execution_count": null,
   "metadata": {
    "collapsed": false,
    "scrolled": true
   },
   "outputs": [],
   "source": [
    "f = random_MCR(30)\n",
    "f.show()"
   ]
  },
  {
   "cell_type": "markdown",
   "metadata": {},
   "source": [
    "We can use our random MCR, f, to show how the drawing primitives `plot_obstacles`, `plot_shapes`, `plot_graph`, and `setup_axes` are used.\n",
    "\n",
    "`plot_obstacles` add all the obstacles to the display.\n",
    "\n",
    "`plot_shapes` is what `plot_obstacles` uses; in this case we'll use it to highlight the multiply-overlapped components.\n",
    "\n",
    "`plot_graph` draws the graph.\n",
    "\n",
    "`setup axes` makes the axes of what is actually a matplotlib graph look decent."
   ]
  },
  {
   "cell_type": "code",
   "execution_count": null,
   "metadata": {
    "collapsed": false
   },
   "outputs": [],
   "source": [
    "### highlight overlapping obstacles\n",
    "# find the overlappings and mark them\n",
    "for o_o in f.overlapped_obstacles:\n",
    "    if len(o_o.cover) > 4:\n",
    "        o_o.facecolor = 'red'\n",
    "    elif len(o_o.cover) > 3:\n",
    "        o_o.facecolor = 'orange'\n",
    "    elif len(o_o.cover) > 2:\n",
    "        o_o.facecolor = 'yellow'\n",
    "    else:\n",
    "        o_o.facecolor = 'white'\n",
    "\n",
    "f.plot_overlapped_obstacles()\n",
    "\n",
    "# show the graph as well\n",
    "f.plot_graph(labels=False)\n",
    "f.setup_axes()\n",
    "plt.show()"
   ]
  },
  {
   "cell_type": "markdown",
   "metadata": {},
   "source": [
    "We can also highlight parts of the graph.\n",
    "\n",
    "`plot_subgraph(path)` works exactly the same as `plot_graph`, but only for the path.\n",
    "\n",
    "`shortest_covered_path(u, v, cover)` finds a shortest path.\n",
    "\n",
    "`shortest_covered_paths(u, v, cover)` (not shown) finds *all* shortest paths between $u$ and $v$."
   ]
  },
  {
   "cell_type": "code",
   "execution_count": null,
   "metadata": {
    "collapsed": false
   },
   "outputs": [],
   "source": [
    "basic = MCR(svg='basic.svg')\n",
    "\n",
    "# We determine the minimum cover is {1, 2} in some way\n",
    "path = basic.shortest_covered_path(basic.start.wkt, basic.goal.wkt, cover=set([1,2]))\n",
    "\n",
    "basic.plot_obstacles()\n",
    "basic.plot_graph(labels=True)\n",
    "basic.plot_subgraph(path)\n",
    "MCR.setup_axes()\n",
    "plt.show()"
   ]
  },
  {
   "cell_type": "markdown",
   "metadata": {},
   "source": [
    "## Conclusion\n",
    "\n",
    "This is a brief sampling of what the `mcr` library makes available for creating and display. Actually solving these is still up to you!\n",
    "\n",
    "The library is [available on GitHub](https://github.com/Aarononomous/MCR), and in the [test notebook](https://github.com/Aarononomous/MCR/blob/master/mcr.ipynb), there are more examples of usage. Like all hastily-constructed academic projects, the most authoritative reference is the source code."
   ]
  }
 ],
 "metadata": {
  "kernelspec": {
   "display_name": "Python 3",
   "language": "python",
   "name": "python3"
  },
  "language_info": {
   "codemirror_mode": {
    "name": "ipython",
    "version": 3
   },
   "file_extension": ".py",
   "mimetype": "text/x-python",
   "name": "python",
   "nbconvert_exporter": "python",
   "pygments_lexer": "ipython3",
   "version": "3.6.0"
  }
 },
 "nbformat": 4,
 "nbformat_minor": 2
}

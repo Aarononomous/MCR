{
 "cells": [
  {
   "cell_type": "code",
   "execution_count": 1,
   "metadata": {
    "collapsed": true
   },
   "outputs": [],
   "source": [
    "# magic\n",
    "%matplotlib inline\n",
    "\n",
    "# imports\n",
    "import matplotlib\n",
    "import matplotlib.pyplot as plt\n",
    "import numpy as np\n",
    "# from IPython.display import SVG, display # svg images\n",
    "import graphviz as gv\n",
    "import random as rand\n",
    "from math import *\n",
    "\n",
    "# my libraries\n",
    "from MCR import *\n",
    "\n",
    "# make figures large enough\n",
    "from pylab import rcParams\n",
    "rcParams['figure.figsize'] = (10, 10)"
   ]
  },
  {
   "cell_type": "code",
   "execution_count": 27,
   "metadata": {
    "collapsed": true
   },
   "outputs": [],
   "source": [
    "def poisson_plane(k):\n",
    "    '''\n",
    "    Returns an array of k (x, y) tuples evenly spaced across [0, 1] x [0, 1]\n",
    "    Kinda, not guaranteed to be < 1...it's a Poisson distribution.\n",
    "    '''\n",
    "    xs = [rand.expovariate(k+1)]\n",
    "    ys = [rand.expovariate(k+1)]\n",
    "\n",
    "    for _ in range(k):\n",
    "        xs.append(xs[-1] + rand.expovariate(k+1))\n",
    "        ys.append(ys[-1] + rand.expovariate(k+1))\n",
    "    \n",
    "    rand.shuffle(ys)\n",
    "    return list(zip(xs, ys))"
   ]
  },
  {
   "cell_type": "code",
   "execution_count": 30,
   "metadata": {
    "collapsed": false
   },
   "outputs": [
    {
     "data": {
      "text/plain": [
       "[(0.06872188044640835, 0.6489186115757695),\n",
       " (0.12130843342596259, 0.2099697200405399),\n",
       " (0.13635471491332368, 0.6879941033539743),\n",
       " (0.33238644369106696, 0.7621196506361869),\n",
       " (0.6177328511232775, 0.12636289732249328),\n",
       " (0.6816499250488621, 0.1480410824159637),\n",
       " (0.7702322654155465, 0.029239152431499715),\n",
       " (0.7788188010591935, 0.4959438985774559),\n",
       " (0.8510899536096282, 0.22234441185483808),\n",
       " (0.8553084190400805, 0.2723048915321151),\n",
       " (0.9145383314914032, 0.8448583060801074)]"
      ]
     },
     "execution_count": 30,
     "metadata": {},
     "output_type": "execute_result"
    }
   ],
   "source": [
    "poisson_plane(10)"
   ]
  },
  {
   "cell_type": "code",
   "execution_count": null,
   "metadata": {
    "collapsed": true
   },
   "outputs": [],
   "source": []
  }
 ],
 "metadata": {
  "kernelspec": {
   "display_name": "Python 3",
   "language": "python",
   "name": "python3"
  },
  "language_info": {
   "codemirror_mode": {
    "name": "ipython",
    "version": 3
   },
   "file_extension": ".py",
   "mimetype": "text/x-python",
   "name": "python",
   "nbconvert_exporter": "python",
   "pygments_lexer": "ipython3",
   "version": "3.6.0"
  }
 },
 "nbformat": 4,
 "nbformat_minor": 2
}

{
 "cells": [
  {
   "cell_type": "code",
   "execution_count": null,
   "metadata": {
    "collapsed": false
   },
   "outputs": [],
   "source": [
    "# magic\n",
    "%matplotlib inline\n",
    "\n",
    "# imports\n",
    "import random as rand\n",
    "from math import *\n",
    "\n",
    "import matplotlib\n",
    "import matplotlib.pyplot as plt\n",
    "# import numpy as np\n",
    "import networkx as nx\n",
    "\n",
    "from shapely.geometry import *\n",
    "from shapely.affinity import *\n",
    "from shapely.prepared import prep\n",
    "\n",
    "# my libraries\n",
    "from mcr import *\n",
    "\n",
    "# make figures large enough\n",
    "from pylab import rcParams\n",
    "rcParams['figure.figsize'] = (10, 10)"
   ]
  },
  {
   "cell_type": "markdown",
   "metadata": {},
   "source": [
    "# MCR creation and basics"
   ]
  },
  {
   "cell_type": "code",
   "execution_count": null,
   "metadata": {
    "collapsed": false
   },
   "outputs": [],
   "source": [
    "# Create an empty square\n",
    "square = MCR()\n",
    "\n",
    "# Add a couple of shapes to the square\n",
    "shape1 = Polygon([(0.2,0.2), (0.2, 0.7), (0.7,0.7), (0.7,0.2)])\n",
    "shape2 = Polygon([(0.5,0.15), (1.0,0.15), (.75, .87)])\n",
    "shape3 = Polygon([(0.0, 0.2), (0.0, 0.5), (0.3, 0.5), (0.3,0.2)])\n",
    "\n",
    "square.add_obstacle(shape1)\n",
    "square.add_obstacle(shape2)\n",
    "square.add_obstacle(shape3)\n",
    "\n",
    "# change its color?! Why not?\n",
    "shape1.facecolor = 'pink'\n",
    "\n",
    "# Add a start and goal\n",
    "square.start = Point(0.05, 0.05)\n",
    "square.goal  = Point(0.95, 0.95)"
   ]
  },
  {
   "cell_type": "code",
   "execution_count": null,
   "metadata": {
    "collapsed": false,
    "scrolled": false
   },
   "outputs": [],
   "source": [
    "# Display the MCR\n",
    "square.plot_obstacles(labels=True)"
   ]
  },
  {
   "cell_type": "code",
   "execution_count": null,
   "metadata": {
    "collapsed": false
   },
   "outputs": [],
   "source": [
    "square.show(labels=True)"
   ]
  },
  {
   "cell_type": "markdown",
   "metadata": {},
   "source": [
    "## Loading from an SVG"
   ]
  },
  {
   "cell_type": "code",
   "execution_count": null,
   "metadata": {
    "collapsed": false
   },
   "outputs": [],
   "source": [
    "# This should fail with the proper error\n",
    "try:\n",
    "    fail = MCR(svg='missing.svg')\n",
    "except ValueError:\n",
    "    pass"
   ]
  },
  {
   "cell_type": "code",
   "execution_count": null,
   "metadata": {
    "collapsed": false
   },
   "outputs": [],
   "source": [
    "shapes = MCR(svg='shapes.svg')"
   ]
  },
  {
   "cell_type": "code",
   "execution_count": null,
   "metadata": {
    "collapsed": false
   },
   "outputs": [],
   "source": [
    "shapes.create_graph()"
   ]
  },
  {
   "cell_type": "code",
   "execution_count": null,
   "metadata": {
    "collapsed": false
   },
   "outputs": [],
   "source": [
    "shapes.show()"
   ]
  },
  {
   "cell_type": "code",
   "execution_count": null,
   "metadata": {
    "collapsed": false
   },
   "outputs": [],
   "source": [
    "# The above is equivalent to:\n",
    "shapes.plot_obstacles()\n",
    "shapes.plot_graph(labels=False)\n",
    "shapes.setup_axes()\n",
    "plt.show()"
   ]
  },
  {
   "cell_type": "code",
   "execution_count": null,
   "metadata": {
    "collapsed": false
   },
   "outputs": [],
   "source": [
    "straws = MCR(svg='straws.svg')"
   ]
  },
  {
   "cell_type": "code",
   "execution_count": null,
   "metadata": {
    "collapsed": false,
    "scrolled": false
   },
   "outputs": [],
   "source": [
    "straws.plot_obstacles()"
   ]
  },
  {
   "cell_type": "code",
   "execution_count": null,
   "metadata": {
    "collapsed": false,
    "scrolled": false
   },
   "outputs": [],
   "source": [
    "straws.plot_overlapped_obstacles()"
   ]
  },
  {
   "cell_type": "code",
   "execution_count": null,
   "metadata": {
    "collapsed": false
   },
   "outputs": [],
   "source": [
    "straws.create_graph()"
   ]
  },
  {
   "cell_type": "code",
   "execution_count": null,
   "metadata": {
    "collapsed": false,
    "scrolled": false
   },
   "outputs": [],
   "source": [
    "straws.show()"
   ]
  },
  {
   "cell_type": "code",
   "execution_count": null,
   "metadata": {
    "collapsed": false
   },
   "outputs": [],
   "source": [
    "# how about circles from svg's?\n",
    "laby4 = MCR(svg='labyrinth 4.svg')\n",
    "laby4.show()"
   ]
  },
  {
   "cell_type": "code",
   "execution_count": null,
   "metadata": {
    "collapsed": false
   },
   "outputs": [],
   "source": [
    "# There are still some bugs. Notice that the unoverlapped sections in \n",
    "# the middle shape should connect to the whitespaces above and below,\n",
    "# but only connect to one or the other.\n",
    "# Notice too that the leftmost and second-to-rightmost overlaps have\n",
    "# superthin shapes on their top borders.\n",
    "laby3 = MCR(svg='labyrinth 3.svg')\n",
    "laby3.show()"
   ]
  },
  {
   "cell_type": "markdown",
   "metadata": {},
   "source": [
    "# Other functions in `mcr.py`"
   ]
  },
  {
   "cell_type": "code",
   "execution_count": null,
   "metadata": {
    "collapsed": false,
    "scrolled": false
   },
   "outputs": [],
   "source": [
    "f = random_MCR(30)\n",
    "f.plot_obstacles(labels=True)\n",
    "f.show()"
   ]
  },
  {
   "cell_type": "code",
   "execution_count": null,
   "metadata": {
    "collapsed": false,
    "scrolled": false
   },
   "outputs": [],
   "source": [
    "### highlight overlapping obstacles\n",
    "triples = [o_o for o_o in f.overlapped_obstacles if len(o_o.cover) >= 3]\n",
    "\n",
    "# find the overlappings and mark them\n",
    "for o_o in triples:\n",
    "    if len(o_o.cover) > 4:\n",
    "        o_o.facecolor = 'red'\n",
    "    elif len(o_o.cover) > 3:\n",
    "        o_o.facecolor = 'orange'\n",
    "    elif len(o_o.cover) > 2:\n",
    "        o_o.facecolor = 'yellow'\n",
    "\n",
    "\n",
    "# first draw everything\n",
    "f.plot_obstacles()\n",
    "\n",
    "MCR.plot_shapes(triples)\n",
    "\n",
    "# show the graph as well\n",
    "f.plot_graph(labels=False)\n",
    "f.setup_axes()\n",
    "plt.show()"
   ]
  },
  {
   "cell_type": "code",
   "execution_count": null,
   "metadata": {
    "collapsed": false
   },
   "outputs": [],
   "source": [
    "### highlight obstacles in the direct path from start to goal\n",
    "\n",
    "# first draw everything\n",
    "f.plot_obstacles()\n",
    "\n",
    "# created the LineString and draw it\n",
    "path = LineString([Point(f.start), Point(f.goal)])\n",
    "MCR.plot_linestrings([path])\n",
    "\n",
    "# find the crossed obstacles and show them\n",
    "crossed = [o_o for o_o in f.overlapped_obstacles if path.crosses(o_o)]\n",
    "for o_o in crossed:\n",
    "    o_o.facecolor = 'yellow'\n",
    "MCR.plot_shapes(crossed)\n",
    "\n",
    "# show the graph as well\n",
    "f.plot_graph(labels=False)\n",
    "f.setup_axes()\n",
    "plt.show()"
   ]
  },
  {
   "cell_type": "markdown",
   "metadata": {},
   "source": [
    "# Subgraphs"
   ]
  },
  {
   "cell_type": "code",
   "execution_count": null,
   "metadata": {
    "collapsed": false
   },
   "outputs": [],
   "source": [
    "basic = MCR(svg='basic.svg')\n",
    "basic.show(labels=True)"
   ]
  },
  {
   "cell_type": "code",
   "execution_count": null,
   "metadata": {
    "collapsed": false
   },
   "outputs": [],
   "source": [
    "# We determine the minimum cover is {1, 2} some other way\n",
    "path = basic.shortest_covered_path(basic.start.wkt, basic.goal.wkt, cover=set([1,2]))\n",
    "\n",
    "basic.plot_obstacles()\n",
    "basic.plot_graph()\n",
    "basic.plot_subgraph(path)\n",
    "plt.show()"
   ]
  },
  {
   "cell_type": "code",
   "execution_count": null,
   "metadata": {
    "collapsed": false
   },
   "outputs": [],
   "source": [
    "# We determine the minimum cover is {1, 2} some other way\n",
    "paths = basic.shortest_covered_paths(basic.start.wkt, basic.goal.wkt, cover=set([1,2,3]))\n",
    "\n",
    "basic.plot_obstacles()\n",
    "basic.plot_graph()\n",
    "basic.plot_subgraph(paths)\n",
    "plt.show()"
   ]
  },
  {
   "cell_type": "code",
   "execution_count": null,
   "metadata": {
    "collapsed": true
   },
   "outputs": [],
   "source": [
    "def solve_brute_force(mcr, max_steps=1E5):\n",
    "    \"\"\"\n",
    "    Tries every combination of obstacles to find the minimum path.\n",
    "    \"\"\"\n",
    "    \n",
    "    # prepare the graph\n",
    "    mcr.create_graph()\n",
    "    start = mcr.start.wkt\n",
    "    goal = mcr.goal.wkt\n",
    "    \n",
    "    for i in range(mcr.size + 1):\n",
    "        # create all powersets of size i\n",
    "        print('Trying all {} combinations of size {}'.format(2**i, i))\n",
    "        P_i = itertools.combinations(range(1, mcr.size + 1), i) # nodes start at '1'\n",
    "        \n",
    "        for C in P_i:\n",
    "            G = nx.Graph(data=mcr.graph)  # a fresh copy\n",
    "            cover = set(C)\n",
    "            # remove the cover from G's obstacles\n",
    "            for n in dict(G.node): # use a copy!\n",
    "                if G.node[n]['cover'] - cover != set():\n",
    "                    G.remove_node(n)\n",
    "                    \n",
    "            # is there a path?\n",
    "            if nx.has_path(G, start, goal):\n",
    "               return cover"
   ]
  },
  {
   "cell_type": "code",
   "execution_count": null,
   "metadata": {
    "collapsed": false
   },
   "outputs": [],
   "source": [
    "f = random_MCR(25)\n",
    "cover = solve_brute_force(f)\n",
    "print(cover)\n",
    "\n",
    "path = f.shortest_covered_path(f.start.wkt, f.goal.wkt, cover=cover)\n",
    "\n",
    "f.plot_obstacles()\n",
    "f.plot_graph()\n",
    "f.plot_subgraph(path)\n",
    "MCR.setup_axes()\n",
    "plt.show()"
   ]
  },
  {
   "cell_type": "code",
   "execution_count": null,
   "metadata": {
    "collapsed": false
   },
   "outputs": [],
   "source": [
    "f.show()"
   ]
  },
  {
   "cell_type": "code",
   "execution_count": null,
   "metadata": {
    "collapsed": true
   },
   "outputs": [],
   "source": []
  }
 ],
 "metadata": {
  "kernelspec": {
   "display_name": "Python 3",
   "language": "python",
   "name": "python3"
  },
  "language_info": {
   "codemirror_mode": {
    "name": "ipython",
    "version": 3
   },
   "file_extension": ".py",
   "mimetype": "text/x-python",
   "name": "python",
   "nbconvert_exporter": "python",
   "pygments_lexer": "ipython3",
   "version": "3.6.0"
  }
 },
 "nbformat": 4,
 "nbformat_minor": 2
}

{
 "cells": [
  {
   "cell_type": "code",
   "execution_count": null,
   "metadata": {
    "collapsed": false
   },
   "outputs": [],
   "source": [
    "# magic\n",
    "%matplotlib inline\n",
    "\n",
    "# imports\n",
    "import matplotlib\n",
    "import matplotlib.pyplot as plt\n",
    "import numpy as np\n",
    "# from IPython.display import SVG, display # svg images\n",
    "from shapely.geometry import *\n",
    "from shapely.affinity import *\n",
    "from shapely.prepared import prep\n",
    "import graphviz as gv\n",
    "\n",
    "import random as rand\n",
    "from math import *\n",
    "from itertools import permutations\n",
    "import importlib\n",
    "\n",
    "# my libraries\n",
    "from mcr import *\n",
    "from graph import *\n",
    "import networkx as nx\n",
    "\n",
    "# make figures large enough\n",
    "from pylab import rcParams\n",
    "rcParams['figure.figsize'] = (10, 10)"
   ]
  },
  {
   "cell_type": "code",
   "execution_count": null,
   "metadata": {
    "collapsed": false
   },
   "outputs": [],
   "source": [
    "# Create an empty square\n",
    "square = MCR()\n",
    "\n",
    "# Add a couple of shapes to the square\n",
    "shape1 = Polygon([(0.2,0.2), (0.2, 0.7), (0.7,0.7), (0.7,0.2)])\n",
    "shape2 = Polygon([(0.5,0.15), (1.0,0.15), (.75, .87)])\n",
    "shape3 = Polygon([(0.0, 0.2), (0.0, 0.5), (0.3, 0.5), (0.3,0.2)])\n",
    "\n",
    "square.add_obstacle(shape1)\n",
    "square.add_obstacle(shape2)\n",
    "square.add_obstacle(shape3)\n",
    "\n",
    "# change its color?! Why not?\n",
    "shape1.facecolor = 'pink'\n",
    "\n",
    "# Add a start and goal\n",
    "square.start = Point(0.05, 0.05)\n",
    "square.goal  = Point(0.95, 0.95)"
   ]
  },
  {
   "cell_type": "code",
   "execution_count": null,
   "metadata": {
    "collapsed": false,
    "scrolled": false
   },
   "outputs": [],
   "source": [
    "# Display the MCR\n",
    "square.plot_obstacles(labels=True)"
   ]
  },
  {
   "cell_type": "code",
   "execution_count": null,
   "metadata": {
    "collapsed": false
   },
   "outputs": [],
   "source": [
    "square.show(labels=True)"
   ]
  },
  {
   "cell_type": "code",
   "execution_count": null,
   "metadata": {
    "collapsed": false
   },
   "outputs": [],
   "source": [
    "shapes = MCR(svg='shapes.svg')"
   ]
  },
  {
   "cell_type": "code",
   "execution_count": null,
   "metadata": {
    "collapsed": false
   },
   "outputs": [],
   "source": [
    "shapes.create_graph()"
   ]
  },
  {
   "cell_type": "code",
   "execution_count": null,
   "metadata": {
    "collapsed": false
   },
   "outputs": [],
   "source": [
    "shapes.show()"
   ]
  },
  {
   "cell_type": "code",
   "execution_count": null,
   "metadata": {
    "collapsed": false
   },
   "outputs": [],
   "source": [
    "# The above is equivalent to:\n",
    "shapes.plot_obstacles()\n",
    "shapes.plot_graph(labels=False)\n",
    "shapes.setup_axes()\n",
    "plt.show()"
   ]
  },
  {
   "cell_type": "code",
   "execution_count": null,
   "metadata": {
    "collapsed": false
   },
   "outputs": [],
   "source": [
    "straws = MCR(svg='straws.svg')"
   ]
  },
  {
   "cell_type": "code",
   "execution_count": null,
   "metadata": {
    "collapsed": false,
    "scrolled": false
   },
   "outputs": [],
   "source": [
    "straws.plot_obstacles()"
   ]
  },
  {
   "cell_type": "code",
   "execution_count": null,
   "metadata": {
    "collapsed": false,
    "scrolled": false
   },
   "outputs": [],
   "source": [
    "straws.plot_overlapped_obstacles()"
   ]
  },
  {
   "cell_type": "code",
   "execution_count": null,
   "metadata": {
    "collapsed": false
   },
   "outputs": [],
   "source": [
    "straws.create_graph()"
   ]
  },
  {
   "cell_type": "code",
   "execution_count": null,
   "metadata": {
    "collapsed": false,
    "scrolled": false
   },
   "outputs": [],
   "source": [
    "straws.show()"
   ]
  },
  {
   "cell_type": "code",
   "execution_count": null,
   "metadata": {
    "collapsed": false,
    "scrolled": false
   },
   "outputs": [],
   "source": [
    "f = random_MCR(30)\n",
    "f.plot_obstacles(labels=True)"
   ]
  },
  {
   "cell_type": "code",
   "execution_count": null,
   "metadata": {
    "collapsed": false,
    "scrolled": false
   },
   "outputs": [],
   "source": [
    "f.show()"
   ]
  },
  {
   "cell_type": "code",
   "execution_count": null,
   "metadata": {
    "collapsed": false,
    "scrolled": false
   },
   "outputs": [],
   "source": [
    "### highlight overlapping obstacles\n",
    "triples = [o_o for o_o in f.overlapped_obstacles if len(o_o.cover) >= 3]\n",
    "\n",
    "# find the overlappings and mark them\n",
    "for o_o in triples:\n",
    "    if len(o_o.cover) > 4:\n",
    "        o_o.facecolor = 'red'\n",
    "    elif len(o_o.cover) > 3:\n",
    "        o_o.facecolor = 'orange'\n",
    "    elif len(o_o.cover) > 2:\n",
    "        o_o.facecolor = 'yellow'\n",
    "\n",
    "\n",
    "# first draw everything\n",
    "f.plot_obstacles()\n",
    "\n",
    "MCR.plot_shapes(triples)\n",
    "\n",
    "# show the graph as well\n",
    "f.plot_graph(labels=False)\n",
    "f.setup_axes()\n",
    "plt.show()"
   ]
  },
  {
   "cell_type": "code",
   "execution_count": null,
   "metadata": {
    "collapsed": false
   },
   "outputs": [],
   "source": [
    "### highlight obstacles in the direct path from start to goal\n",
    "\n",
    "# first draw everything\n",
    "f.plot_obstacles()\n",
    "\n",
    "# created the LineString and draw it\n",
    "path = LineString([Point(f.start), Point(f.goal)])\n",
    "MCR.plot_linestrings([path])\n",
    "\n",
    "# find the crossed obstacles and show them\n",
    "crossed = [o_o for o_o in f.overlapped_obstacles if path.crosses(o_o)]\n",
    "for o_o in crossed:\n",
    "    o_o.facecolor = 'yellow'\n",
    "MCR.plot_shapes(crossed)\n",
    "\n",
    "# show the graph as well\n",
    "f.plot_graph(labels=False)\n",
    "f.setup_axes()\n",
    "plt.show()"
   ]
  },
  {
   "cell_type": "code",
   "execution_count": null,
   "metadata": {
    "collapsed": false
   },
   "outputs": [],
   "source": [
    "# how about circles from svg's?\n",
    "laby = MCR(svg='labyrinth 4.svg')\n",
    "laby.show()"
   ]
  }
 ],
 "metadata": {
  "kernelspec": {
   "display_name": "Python 3",
   "language": "python",
   "name": "python3"
  },
  "language_info": {
   "codemirror_mode": {
    "name": "ipython",
    "version": 3
   },
   "file_extension": ".py",
   "mimetype": "text/x-python",
   "name": "python",
   "nbconvert_exporter": "python",
   "pygments_lexer": "ipython3",
   "version": "3.6.0"
  }
 },
 "nbformat": 4,
 "nbformat_minor": 2
}

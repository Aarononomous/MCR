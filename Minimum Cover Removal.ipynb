{
 "cells": [
  {
   "cell_type": "code",
   "execution_count": 1,
   "metadata": {
    "collapsed": false
   },
   "outputs": [],
   "source": [
    "# magic\n",
    "%matplotlib inline\n",
    "\n",
    "# imports\n",
    "import matplotlib\n",
    "import matplotlib.pyplot as plt\n",
    "import numpy as np\n",
    "from IPython.display import SVG, display # svg images\n",
    "import graphviz as gv\n",
    "import random as rand\n",
    "from math import *\n",
    "import re\n",
    "\n",
    "# my libraries\n",
    "from MCR import *\n",
    "\n",
    "# make figures large enough\n",
    "from pylab import rcParams\n",
    "rcParams['figure.figsize'] = (10, 10)"
   ]
  },
  {
   "cell_type": "code",
   "execution_count": 2,
   "metadata": {
    "collapsed": false
   },
   "outputs": [
    {
     "ename": "NameError",
     "evalue": "name 'rotate' is not defined",
     "output_type": "error",
     "traceback": [
      "\u001b[0;31m---------------------------------------------------------------------------\u001b[0m",
      "\u001b[0;31mNameError\u001b[0m                                 Traceback (most recent call last)",
      "\u001b[0;32m<ipython-input-2-302560805b66>\u001b[0m in \u001b[0;36m<module>\u001b[0;34m()\u001b[0m\n\u001b[1;32m      1\u001b[0m \u001b[0;31m# Create a new instance of the Minimum Cover Removal problem\u001b[0m\u001b[0;34m\u001b[0m\u001b[0;34m\u001b[0m\u001b[0m\n\u001b[0;32m----> 2\u001b[0;31m \u001b[0msquare\u001b[0m \u001b[0;34m=\u001b[0m \u001b[0mrandom_mcr\u001b[0m\u001b[0;34m(\u001b[0m\u001b[0mobstacles\u001b[0m\u001b[0;34m=\u001b[0m\u001b[0;36m14\u001b[0m\u001b[0;34m)\u001b[0m\u001b[0;34m\u001b[0m\u001b[0m\n\u001b[0m",
      "\u001b[0;32m/Users/aaron/School/CSC525 Combinatorial Optimization/Project/MCR.py\u001b[0m in \u001b[0;36mrandom_mcr\u001b[0;34m(obstacles)\u001b[0m\n\u001b[1;32m    300\u001b[0m         \u001b[0mx\u001b[0m \u001b[0;34m=\u001b[0m \u001b[0mrand\u001b[0m\u001b[0;34m.\u001b[0m\u001b[0mrandom\u001b[0m\u001b[0;34m(\u001b[0m\u001b[0;34m)\u001b[0m\u001b[0;34m\u001b[0m\u001b[0m\n\u001b[1;32m    301\u001b[0m         \u001b[0my\u001b[0m \u001b[0;34m=\u001b[0m \u001b[0mrand\u001b[0m\u001b[0;34m.\u001b[0m\u001b[0mrandom\u001b[0m\u001b[0;34m(\u001b[0m\u001b[0;34m)\u001b[0m\u001b[0;34m\u001b[0m\u001b[0m\n\u001b[0;32m--> 302\u001b[0;31m         \u001b[0mmcr\u001b[0m\u001b[0;34m.\u001b[0m\u001b[0madd_obstacle\u001b[0m\u001b[0;34m(\u001b[0m\u001b[0mrandom_shape\u001b[0m\u001b[0;34m(\u001b[0m\u001b[0;34m)\u001b[0m\u001b[0;34m,\u001b[0m \u001b[0mat\u001b[0m\u001b[0;34m=\u001b[0m\u001b[0;34m(\u001b[0m\u001b[0mx\u001b[0m\u001b[0;34m,\u001b[0m \u001b[0my\u001b[0m\u001b[0;34m)\u001b[0m\u001b[0;34m)\u001b[0m\u001b[0;34m\u001b[0m\u001b[0m\n\u001b[0m\u001b[1;32m    303\u001b[0m         \u001b[0;32mreturn\u001b[0m \u001b[0mmcr\u001b[0m\u001b[0;34m\u001b[0m\u001b[0m\n\u001b[1;32m    304\u001b[0m \u001b[0;34m\u001b[0m\u001b[0m\n",
      "\u001b[0;32m/Users/aaron/School/CSC525 Combinatorial Optimization/Project/MCR.py\u001b[0m in \u001b[0;36mrandom_shape\u001b[0;34m(max_sides, scale_factor)\u001b[0m\n\u001b[1;32m    313\u001b[0m \u001b[0;34m\u001b[0m\u001b[0m\n\u001b[1;32m    314\u001b[0m     \u001b[0;31m# rotate it randomly\u001b[0m\u001b[0;34m\u001b[0m\u001b[0;34m\u001b[0m\u001b[0m\n\u001b[0;32m--> 315\u001b[0;31m     \u001b[0mshape\u001b[0m \u001b[0;34m=\u001b[0m \u001b[0mrotate\u001b[0m\u001b[0;34m(\u001b[0m\u001b[0mshape\u001b[0m\u001b[0;34m,\u001b[0m \u001b[0mby\u001b[0m\u001b[0;34m=\u001b[0m\u001b[0mrand\u001b[0m\u001b[0;34m.\u001b[0m\u001b[0muniform\u001b[0m\u001b[0;34m(\u001b[0m\u001b[0;36m0\u001b[0m\u001b[0;34m,\u001b[0m \u001b[0;36m2\u001b[0m\u001b[0;34m*\u001b[0m\u001b[0mpi\u001b[0m\u001b[0;34m)\u001b[0m\u001b[0;34m)\u001b[0m\u001b[0;34m\u001b[0m\u001b[0m\n\u001b[0m\u001b[1;32m    316\u001b[0m \u001b[0;34m\u001b[0m\u001b[0m\n\u001b[1;32m    317\u001b[0m     \u001b[0;31m# rescale to fit into about scale part of field\u001b[0m\u001b[0;34m\u001b[0m\u001b[0;34m\u001b[0m\u001b[0m\n",
      "\u001b[0;31mNameError\u001b[0m: name 'rotate' is not defined"
     ]
    }
   ],
   "source": [
    "# Create a new instance of the Minimum Cover Removal problem\n",
    "square = random_mcr(obstacles=14)"
   ]
  },
  {
   "cell_type": "code",
   "execution_count": null,
   "metadata": {
    "collapsed": false
   },
   "outputs": [],
   "source": [
    "# Create an empty square\n",
    "square = MCR()"
   ]
  },
  {
   "cell_type": "code",
   "execution_count": null,
   "metadata": {
    "collapsed": false
   },
   "outputs": [],
   "source": [
    "square"
   ]
  },
  {
   "cell_type": "code",
   "execution_count": null,
   "metadata": {
    "collapsed": true
   },
   "outputs": [],
   "source": [
    "# Add a couple of shapes to the square\n",
    "shape1 = [(0.0,0.0), (0, 0.5), (0.5,0.5), (0.5,0)]\n",
    "shape2 = [(0.0,0.0), (0.5,0), (.25, .87)]\n",
    "\n",
    "square.add_obstacle(shape1, at=(0.2, 0.2))\n",
    "square.add_obstacle(shape2, at=(0.5, 0.15))"
   ]
  },
  {
   "cell_type": "code",
   "execution_count": null,
   "metadata": {
    "collapsed": true
   },
   "outputs": [],
   "source": [
    "# Add a start and goal\n",
    "square.start = (0.05, 0.05)\n",
    "square.goal  = (0.95, 0.95)"
   ]
  },
  {
   "cell_type": "code",
   "execution_count": null,
   "metadata": {
    "collapsed": false
   },
   "outputs": [],
   "source": [
    "square.obstacles"
   ]
  },
  {
   "cell_type": "code",
   "execution_count": null,
   "metadata": {
    "collapsed": false
   },
   "outputs": [],
   "source": [
    "# Display the MCR\n",
    "square.show_obstacles()"
   ]
  },
  {
   "cell_type": "code",
   "execution_count": null,
   "metadata": {
    "collapsed": false
   },
   "outputs": [],
   "source": [
    "# And solve it.\n",
    "MCR.solve_mcr(square)\n",
    "\n",
    "# This returns a path???\n",
    "# How do we display the solution overlaid on the pmp?"
   ]
  },
  {
   "cell_type": "code",
   "execution_count": null,
   "metadata": {
    "collapsed": false
   },
   "outputs": [],
   "source": [
    "# We can import an SVG\n",
    "svg_square = MCR.MCR(svg='path/to/file.svg')\n",
    "\n",
    "# Note that this automatically scales the SVG to 0,0,1,1; clips it; and adds every shape as an obstacle\n",
    "# Does it keep the colors?"
   ]
  },
  {
   "cell_type": "code",
   "execution_count": null,
   "metadata": {
    "collapsed": false
   },
   "outputs": [],
   "source": [
    "# For any of these we can create a (labeled) graph\n",
    "g = svg_square.graph\n",
    "# This also labels the points, including the region where the start and goal are"
   ]
  },
  {
   "cell_type": "code",
   "execution_count": null,
   "metadata": {
    "collapsed": false
   },
   "outputs": [],
   "source": [
    "svg_square"
   ]
  },
  {
   "cell_type": "code",
   "execution_count": null,
   "metadata": {
    "collapsed": false
   },
   "outputs": [],
   "source": [
    "svg_square.start"
   ]
  },
  {
   "cell_type": "code",
   "execution_count": null,
   "metadata": {
    "collapsed": false
   },
   "outputs": [],
   "source": [
    "# And display the graph (with graphviz???)\n",
    "gv.render([0,1,2,3])"
   ]
  },
  {
   "cell_type": "code",
   "execution_count": null,
   "metadata": {
    "collapsed": false
   },
   "outputs": [],
   "source": [
    "# Once we have the graph, we can do all sorts of graph operations on it.\n",
    "DSP(g, s, t)"
   ]
  },
  {
   "cell_type": "code",
   "execution_count": null,
   "metadata": {
    "collapsed": true
   },
   "outputs": [],
   "source": [
    "#  And specialized graph operations on just this kind of multilabeled graph\n",
    "pmp.remove_obstacle(10)\n",
    "\n",
    "# This removes the 2-D obstacle, and in the graph, the '10' label, e.g., from any vertex, then merges neighboring vertices\n",
    "# with the same label. Can be done in \\sum deg(label), if we keep an edge list"
   ]
  },
  {
   "cell_type": "code",
   "execution_count": null,
   "metadata": {
    "collapsed": true
   },
   "outputs": [],
   "source": [
    "dot = '''\n",
    "strict graph {\n",
    "  a -- b\n",
    "  a -- c\n",
    "  b -- c [color=blue]\n",
    "}\n",
    "'''"
   ]
  },
  {
   "cell_type": "code",
   "execution_count": null,
   "metadata": {
    "collapsed": false
   },
   "outputs": [],
   "source": [
    "gv.Source(dot)"
   ]
  },
  {
   "cell_type": "code",
   "execution_count": null,
   "metadata": {
    "collapsed": true
   },
   "outputs": [],
   "source": [
    "from shapely.geometry import *"
   ]
  },
  {
   "cell_type": "code",
   "execution_count": null,
   "metadata": {
    "collapsed": false
   },
   "outputs": [],
   "source": [
    "shapely"
   ]
  },
  {
   "cell_type": "code",
   "execution_count": null,
   "metadata": {
    "collapsed": false
   },
   "outputs": [],
   "source": [
    "shapely.geometry"
   ]
  },
  {
   "cell_type": "code",
   "execution_count": null,
   "metadata": {
    "collapsed": false
   },
   "outputs": [],
   "source": [
    "a = Polygon([(0, 0), (1, 1), (1, 0)])"
   ]
  },
  {
   "cell_type": "code",
   "execution_count": null,
   "metadata": {
    "collapsed": false
   },
   "outputs": [],
   "source": [
    "b = Polygon([(0.5, 0.4), (0.7, 2), (1, 0)])"
   ]
  },
  {
   "cell_type": "code",
   "execution_count": null,
   "metadata": {
    "collapsed": false
   },
   "outputs": [],
   "source": [
    "a"
   ]
  },
  {
   "cell_type": "code",
   "execution_count": null,
   "metadata": {
    "collapsed": false
   },
   "outputs": [],
   "source": [
    "b"
   ]
  },
  {
   "cell_type": "code",
   "execution_count": null,
   "metadata": {
    "collapsed": false
   },
   "outputs": [],
   "source": [
    "a.intersection(b)"
   ]
  },
  {
   "cell_type": "code",
   "execution_count": null,
   "metadata": {
    "collapsed": false
   },
   "outputs": [],
   "source": [
    "a"
   ]
  },
  {
   "cell_type": "code",
   "execution_count": null,
   "metadata": {
    "collapsed": true
   },
   "outputs": [],
   "source": [
    "import shapely.examples as ex"
   ]
  },
  {
   "cell_type": "code",
   "execution_count": null,
   "metadata": {
    "collapsed": false
   },
   "outputs": [],
   "source": [
    "ex"
   ]
  },
  {
   "cell_type": "code",
   "execution_count": null,
   "metadata": {
    "collapsed": false
   },
   "outputs": [],
   "source": [
    "a.representative_point"
   ]
  },
  {
   "cell_type": "code",
   "execution_count": null,
   "metadata": {
    "collapsed": false
   },
   "outputs": [],
   "source": [
    "a.boundary"
   ]
  },
  {
   "cell_type": "code",
   "execution_count": null,
   "metadata": {
    "collapsed": false
   },
   "outputs": [],
   "source": [
    "bounds(pentagon)"
   ]
  },
  {
   "cell_type": "code",
   "execution_count": null,
   "metadata": {
    "collapsed": false
   },
   "outputs": [],
   "source": [
    "x, y = [min(dim) for dim in zip(*bounds(pentagon))]\n",
    "print(x,y)"
   ]
  },
  {
   "cell_type": "code",
   "execution_count": null,
   "metadata": {
    "collapsed": false
   },
   "outputs": [],
   "source": [
    "for _ in range(10):\n",
    "    print(rand.randrange(3,6))"
   ]
  },
  {
   "cell_type": "code",
   "execution_count": null,
   "metadata": {
    "collapsed": true
   },
   "outputs": [],
   "source": [
    "def random_shape(max_sides=6, scale_factor=0.5):\n",
    "    '''\n",
    "    Creates a random convex polygon with vertices between [0,1] x [0,1]\n",
    "    scaled to approx. [0, scale] in either direction\n",
    "    '''\n",
    "\n",
    "    shape = MCR.approx_ngon(rand.randrange(3, max_sides + 1))\n",
    "\n",
    "    # rotate it randomly\n",
    "    shape = MCR.rotate(shape, by=rand.uniform(0, 2*pi))\n",
    "\n",
    "    # rescale to fit into about scale part of field\n",
    "    b = MCR.bounds(shape)\n",
    "    dims = (b[1][0] - b[0][0], b[1][1] - b[0][1])\n",
    "    max_dim = max(dims)\n",
    "    shape = MCR.scale(shape, scale_factor / max_dim)\n",
    "\n",
    "    # and set the lower left of it's bounding box to [0,0]\n",
    "    b = MCR.bounds(shape)\n",
    "    x, y = [min(dim) for dim in zip(*b)] # minimum of the b.b.\n",
    "    shape = MCR.translate(shape, (-x, -y))\n",
    "    return shape"
   ]
  },
  {
   "cell_type": "code",
   "execution_count": null,
   "metadata": {
    "collapsed": false
   },
   "outputs": [],
   "source": [
    "def poisson_plane(k):\n",
    "    '''\n",
    "    Returns an array of k (x, y) tuples evenly spaced across [0, 1] x [0, 1]\n",
    "    Kinda, not guaranteed to be < 1...it's a Poisson distribution.\n",
    "    '''\n",
    "    xs = [rand.expovariate(k+1)]\n",
    "    ys = [rand.expovariate(k+1)]\n",
    "\n",
    "    for _ in range(k):\n",
    "        xs.append((xs[-1] + rand.expovariate(k+1)))\n",
    "        ys.append((ys[-1] + rand.expovariate(k+1)))\n",
    "    \n",
    "    max_x = max(xs)\n",
    "    max_y = max(ys)\n",
    "                  \n",
    "                  \n",
    "    xs = [x / max_x for x in xs]\n",
    "    ys = [y / max_y for y in ys]\n",
    "                  \n",
    "    rand.shuffle(ys)\n",
    "    return list(zip(xs, ys))"
   ]
  },
  {
   "cell_type": "code",
   "execution_count": null,
   "metadata": {
    "collapsed": false,
    "scrolled": true
   },
   "outputs": [],
   "source": [
    "# Add k obstacles to a field\n",
    "field = MCR()\n",
    "k = 100\n",
    "offsets = poisson_plane(k)\n",
    "offsets = [(1.5 * o[0] - 0.5, 1.5 * o[1] - 0.5) for o in offsets] # becuase the shapes are ~ 0.5 x 0.5\n",
    "for o in offsets:\n",
    "    \n",
    "    field.add_obstacle(translate(random_shape(6, scale_factor=0.5), o))\n",
    "\n",
    "field.show_obstacles()"
   ]
  },
  {
   "cell_type": "code",
   "execution_count": null,
   "metadata": {
    "collapsed": false
   },
   "outputs": [],
   "source": [
    "plt.axis()"
   ]
  },
  {
   "cell_type": "code",
   "execution_count": null,
   "metadata": {
    "collapsed": false
   },
   "outputs": [],
   "source": [
    "trunc(t)"
   ]
  },
  {
   "cell_type": "code",
   "execution_count": null,
   "metadata": {
    "collapsed": false
   },
   "outputs": [],
   "source": [
    "t - trunc(t)"
   ]
  },
  {
   "cell_type": "code",
   "execution_count": null,
   "metadata": {
    "collapsed": true
   },
   "outputs": [],
   "source": []
  },
  {
   "cell_type": "code",
   "execution_count": null,
   "metadata": {
    "collapsed": false
   },
   "outputs": [],
   "source": [
    "t.real"
   ]
  },
  {
   "cell_type": "code",
   "execution_count": null,
   "metadata": {
    "collapsed": false
   },
   "outputs": [],
   "source": [
    "help(SVG.data)"
   ]
  },
  {
   "cell_type": "code",
   "execution_count": null,
   "metadata": {
    "collapsed": false
   },
   "outputs": [],
   "source": [
    "SVG"
   ]
  },
  {
   "cell_type": "code",
   "execution_count": null,
   "metadata": {
    "collapsed": false
   },
   "outputs": [],
   "source": [
    "display"
   ]
  },
  {
   "cell_type": "code",
   "execution_count": null,
   "metadata": {
    "collapsed": false
   },
   "outputs": [],
   "source": [
    "help(display)"
   ]
  },
  {
   "cell_type": "code",
   "execution_count": null,
   "metadata": {
    "collapsed": false
   },
   "outputs": [],
   "source": [
    "straws = plt.imread('straws.svg')"
   ]
  },
  {
   "cell_type": "code",
   "execution_count": null,
   "metadata": {
    "collapsed": false
   },
   "outputs": [],
   "source": [
    "help(plt.imread)"
   ]
  },
  {
   "cell_type": "code",
   "execution_count": null,
   "metadata": {
    "collapsed": false
   },
   "outputs": [],
   "source": [
    "f = open('straws.svg')"
   ]
  },
  {
   "cell_type": "code",
   "execution_count": null,
   "metadata": {
    "collapsed": false
   },
   "outputs": [],
   "source": [
    "f.readlines()"
   ]
  },
  {
   "cell_type": "code",
   "execution_count": null,
   "metadata": {
    "collapsed": false
   },
   "outputs": [],
   "source": [
    "f = open('da')"
   ]
  },
  {
   "cell_type": "code",
   "execution_count": null,
   "metadata": {
    "collapsed": true
   },
   "outputs": [],
   "source": [
    "def shapes_from_SVG(svg_file):\n",
    "    try:\n",
    "        f = open(svg_file)\n",
    "        svg = f.read()\n",
    "        f.close()\n",
    "    except FileNotFoundError:\n",
    "        print('File {} not found'.format(svg_file))\n",
    "\n",
    "    return svg"
   ]
  },
  {
   "cell_type": "code",
   "execution_count": null,
   "metadata": {
    "collapsed": false
   },
   "outputs": [],
   "source": [
    "s = shapes_from_SVG('straws.svg')"
   ]
  },
  {
   "cell_type": "code",
   "execution_count": null,
   "metadata": {
    "collapsed": false
   },
   "outputs": [],
   "source": [
    "s.find('rect')"
   ]
  },
  {
   "cell_type": "code",
   "execution_count": null,
   "metadata": {
    "collapsed": false
   },
   "outputs": [],
   "source": [
    "s"
   ]
  },
  {
   "cell_type": "code",
   "execution_count": null,
   "metadata": {
    "collapsed": false
   },
   "outputs": [],
   "source": [
    "help(s.split)"
   ]
  },
  {
   "cell_type": "code",
   "execution_count": null,
   "metadata": {
    "collapsed": false,
    "scrolled": true
   },
   "outputs": [],
   "source": [
    "rects = re.findall('<rect.*?\\/>', s)"
   ]
  },
  {
   "cell_type": "code",
   "execution_count": null,
   "metadata": {
    "collapsed": false
   },
   "outputs": [],
   "source": [
    "for r in rects:\n",
    "    print(r)"
   ]
  },
  {
   "cell_type": "code",
   "execution_count": null,
   "metadata": {
    "collapsed": false
   },
   "outputs": [],
   "source": [
    "viewbox = [float(x) for x in re.findall('viewBox=\"(.*?)\"', s)[0].split()]\n",
    "print(viewbox)"
   ]
  },
  {
   "cell_type": "code",
   "execution_count": null,
   "metadata": {
    "collapsed": false
   },
   "outputs": [],
   "source": [
    "rects"
   ]
  },
  {
   "cell_type": "code",
   "execution_count": null,
   "metadata": {
    "collapsed": false
   },
   "outputs": [],
   "source": [
    "x_ = re.findall('x=\"([\\d.]+)\"', rects[1])"
   ]
  },
  {
   "cell_type": "code",
   "execution_count": null,
   "metadata": {
    "collapsed": false
   },
   "outputs": [],
   "source": [
    "if x_:\n",
    "    print(34)"
   ]
  },
  {
   "cell_type": "code",
   "execution_count": null,
   "metadata": {
    "collapsed": false
   },
   "outputs": [],
   "source": [
    "x = float(x_[0]) if x_ else 0"
   ]
  },
  {
   "cell_type": "code",
   "execution_count": null,
   "metadata": {
    "collapsed": true
   },
   "outputs": [],
   "source": [
    "shapes = []"
   ]
  },
  {
   "cell_type": "code",
   "execution_count": null,
   "metadata": {
    "collapsed": false
   },
   "outputs": [],
   "source": [
    "for rect in rects:\n",
    "    x_ = re.findall('x=\"([\\d.]+)\"', rect)\n",
    "    x = float(x_[0]) if x_ else 0.0\n",
    "\n",
    "    y_ = re.findall('y=\"([\\d.]+)\"', rect)\n",
    "    y = float(y_[0]) if y_ else 0.0\n",
    "\n",
    "    h_ = re.findall('height=\"([\\d.]+)\"', rect)\n",
    "    h = float(h_[0])\n",
    "\n",
    "    w_ = re.findall('width=\"([\\d.]+)\"', rect)\n",
    "    w = float(w_[0])\n",
    "\n",
    "    shapes.append([(x, y), (x+w, y), (x+w, y+h), (x, y+h)])"
   ]
  },
  {
   "cell_type": "code",
   "execution_count": null,
   "metadata": {
    "collapsed": false
   },
   "outputs": [],
   "source": [
    "shapes"
   ]
  },
  {
   "cell_type": "code",
   "execution_count": null,
   "metadata": {
    "collapsed": false
   },
   "outputs": [],
   "source": [
    "[(p[0] / 4, p[1] / 5) for shape in shapes for p in shape]"
   ]
  },
  {
   "cell_type": "code",
   "execution_count": null,
   "metadata": {
    "collapsed": true
   },
   "outputs": [],
   "source": [
    "def shapes_from_SVG(svg_file):\n",
    "    try:\n",
    "        f = open(svg_file)\n",
    "        svg = f.readlines()\n",
    "        f.close()\n",
    "    except FileNotFoundError:\n",
    "        print('File {} not found'.format(svg_file))\n",
    "\n",
    "    # Now start parsing\n",
    "\n",
    "    shapes = []\n",
    "    scaled_shapes = []\n",
    "    \n",
    "    #  Viewbox - this will be scaled to 1, 1 eventually\n",
    "    try:\n",
    "        viewbox = [float(x)\n",
    "                   for x in re.findall('viewBox=\"(.*?)\"', s)[0].split()]\n",
    "        vb_w = viewbox[2] - viewbox[0]\n",
    "        vb_h = viewbox[3] - viewbox[1]\n",
    "        print(vb_w, vb_h)\n",
    "    except:\n",
    "        print('Can\\'t find a viewbox!')\n",
    "\n",
    "    # Rectangles\n",
    "    rects = re.findall('<rect.*?\\/>', s)\n",
    "    for rect in rects:\n",
    "        x_ = re.findall('x=\"([\\d.]+)\"', rect)\n",
    "        x = float(x_[0]) if x_ else 0.0\n",
    "\n",
    "        y_ = re.findall('y=\"([\\d.]+)\"', rect)\n",
    "        y = float(y_[0]) if y_ else 0.0\n",
    "\n",
    "        h_ = re.findall('height=\"([\\d.]+)\"', rect)\n",
    "        h = float(h_[0])\n",
    "\n",
    "        w_ = re.findall('width=\"([\\d.]+)\"', rect)\n",
    "        w = float(w_[0])\n",
    "\n",
    "        # TODO: transforms\n",
    "\n",
    "        shapes.append([(x, y), (x+w, y), (x+w, y+h), (x, y+h)])\n",
    "\n",
    "    # Polygons\n",
    "    polygons = re.findall('<polygon.*?\\/>', s)\n",
    "    for polygon in polygons:\n",
    "        shape = []\n",
    "        point_list = re.findall('points=\"(.*?)\"', polygon)\n",
    "        points = ([float(x) for x in point_list[0].split()])\n",
    "\n",
    "        points.reverse() # so that I can pop from the front...\n",
    "        while points:\n",
    "            shape.append((points.pop(), points.pop()))\n",
    "        shape.pop() # remove the doubled last point\n",
    "        shapes.append(s_p)\n",
    "    \n",
    "    # rescale to [1,1]\n",
    "    for shape in shapes:\n",
    "        scaled_shapes.append([(p[0] / vb_w, p[1] / vb_h) for p in shape])\n",
    "\n",
    "    return scaled_shapes\n"
   ]
  },
  {
   "cell_type": "code",
   "execution_count": null,
   "metadata": {
    "collapsed": false
   },
   "outputs": [],
   "source": [
    "straws = shapes_from_SVG('straws.svg')"
   ]
  },
  {
   "cell_type": "code",
   "execution_count": null,
   "metadata": {
    "collapsed": false
   },
   "outputs": [],
   "source": [
    "print(straws)"
   ]
  },
  {
   "cell_type": "code",
   "execution_count": null,
   "metadata": {
    "collapsed": false
   },
   "outputs": [],
   "source": [
    "hatch = MCR()\n",
    "for o in straws:\n",
    "    hatch.add_obstacle(o)\n",
    "\n",
    "hatch.show_obstacles()"
   ]
  },
  {
   "cell_type": "code",
   "execution_count": null,
   "metadata": {
    "collapsed": false
   },
   "outputs": [],
   "source": [
    "straws"
   ]
  },
  {
   "cell_type": "code",
   "execution_count": null,
   "metadata": {
    "collapsed": false
   },
   "outputs": [],
   "source": [
    "f = open('shapes.svg')\n",
    "s = f.read()\n",
    "f.close()"
   ]
  },
  {
   "cell_type": "code",
   "execution_count": null,
   "metadata": {
    "collapsed": false,
    "scrolled": true
   },
   "outputs": [],
   "source": [
    "s"
   ]
  },
  {
   "cell_type": "code",
   "execution_count": null,
   "metadata": {
    "collapsed": true
   },
   "outputs": [],
   "source": [
    "polygons = re.findall('<polygon.*?\\/>', s)"
   ]
  },
  {
   "cell_type": "code",
   "execution_count": null,
   "metadata": {
    "collapsed": false
   },
   "outputs": [],
   "source": [
    "polygons"
   ]
  },
  {
   "cell_type": "code",
   "execution_count": null,
   "metadata": {
    "collapsed": false
   },
   "outputs": [],
   "source": [
    "shapes = []\n",
    "for polygon in polygons:\n",
    "    shape = []\n",
    "    point_list = re.findall('points=\"(.*?)\"', polygon)\n",
    "    points = ([float(x) for x in point_list[0].split()])\n",
    "    points.reverse()\n",
    "    while points:\n",
    "        shape.append((points.pop(), points.pop()))\n",
    "    shape.pop() # remove the doubled last point\n",
    "    shapes.append(shape)\n",
    "shapes"
   ]
  },
  {
   "cell_type": "code",
   "execution_count": null,
   "metadata": {
    "collapsed": false
   },
   "outputs": [],
   "source": [
    "s_p"
   ]
  },
  {
   "cell_type": "code",
   "execution_count": null,
   "metadata": {
    "collapsed": true
   },
   "outputs": [],
   "source": [
    "x, y = g.pop(), g.pop()"
   ]
  },
  {
   "cell_type": "code",
   "execution_count": null,
   "metadata": {
    "collapsed": false
   },
   "outputs": [],
   "source": [
    "x,y"
   ]
  },
  {
   "cell_type": "code",
   "execution_count": null,
   "metadata": {
    "collapsed": false
   },
   "outputs": [],
   "source": [
    "def shapes_from_SVG(svg_file):\n",
    "    try:\n",
    "        f = open(svg_file)\n",
    "        svg = f.readlines()\n",
    "        f.close()\n",
    "    except FileNotFoundError:\n",
    "        print('File {} not found'.format(svg_file))\n",
    "\n",
    "    # Now start parsing\n",
    "\n",
    "    shapes = []\n",
    "    scaled_shapes = []\n",
    "    \n",
    "    #  Viewbox - this will be scaled to 1, 1 eventually\n",
    "    try:\n",
    "        viewbox = [float(x)\n",
    "                   for x in re.findall('viewBox=\"(.*?)\"', s)[0].split()]\n",
    "        vb_w = viewbox[2] - viewbox[0]\n",
    "        vb_h = viewbox[3] - viewbox[1]\n",
    "    except:\n",
    "        print('Can\\'t find a viewbox!')\n",
    "\n",
    "    # Rectangles\n",
    "    rects = re.findall('<rect.*?\\/>', s)\n",
    "    for rect in rects:\n",
    "        x_ = re.findall('x=\"([\\d.]+)\"', rect)\n",
    "        x = float(x_[0]) if x_ else 0.0\n",
    "\n",
    "        y_ = re.findall('y=\"([\\d.]+)\"', rect)\n",
    "        y = float(y_[0]) if y_ else 0.0\n",
    "\n",
    "        h_ = re.findall('height=\"([\\d.]+)\"', rect)\n",
    "        h = float(h_[0])\n",
    "\n",
    "        w_ = re.findall('width=\"([\\d.]+)\"', rect)\n",
    "        w = float(w_[0])\n",
    "\n",
    "        # Transform matrix\n",
    "        t_m = re.findall('transform=\"matrix\\((.*?)\\)\"', rect)\n",
    "\n",
    "        if t_m:\n",
    "            # set up vars\n",
    "            a,b,c,d,e,f = [float(x) for x in t_m[0].split(', ')]\n",
    "            x1, y1 = (x, y)\n",
    "            x2, y2 = (x+w, y)\n",
    "            x3, y3 = (x+w, y+h)\n",
    "            x4, y4 = (x, y+h)\n",
    "            # and transform\n",
    "            x1 = a*x1 + c*y1 + e\n",
    "            y1 = b*x1 + d*y1 + f\n",
    "            x2 = a*x2 + c*y2 + e\n",
    "            y2 = b*x2 + d*y2 + f\n",
    "            x3 = a*x3 + c*y3 + e\n",
    "            y3 = b*x3 + d*y3 + f\n",
    "            x4 = a*x4 + c*y4 + e\n",
    "            y4 = b*x4 + d*y4 + f\n",
    "            shapes.append([(x1, y1), (x2, y2), (x3, y3), (x4, y4)])\n",
    "        else:\n",
    "            shapes.append([(x, y), (x+w, y), (x+w, y+h), (x, y+h)])\n",
    "\n",
    "\n",
    "\n",
    "    # Polygons\n",
    "    polygons = re.findall('<polygon.*?\\/>', s)\n",
    "    for polygon in polygons:\n",
    "        shape = []\n",
    "        point_list = re.findall('points=\"(.*?)\"', polygon)\n",
    "        points = ([float(x) for x in point_list[0].split()])\n",
    "\n",
    "        points.reverse() # so that I can pop from the front...\n",
    "        while points:\n",
    "            shape.append((points.pop(), points.pop()))\n",
    "        shape.pop() # remove the doubled last point\n",
    "\n",
    "        shapes.append(shape)\n",
    "    \n",
    "    # N.b.: the svg viewbox starts at the top left\n",
    "    # rescale to [1,1]\n",
    "    for shape in shapes:\n",
    "        scaled_shapes.append([(p[0] / vb_w, 1 - p[1] / vb_h) for p in shape])\n",
    "\n",
    "    return scaled_shapes"
   ]
  },
  {
   "cell_type": "code",
   "execution_count": null,
   "metadata": {
    "collapsed": false,
    "scrolled": false
   },
   "outputs": [],
   "source": [
    "s_f_s = shapes_from_SVG('shapes.svg')\n",
    "test = MCR()\n",
    "for o in s_f_s:\n",
    "    test.add_obstacle(o)\n",
    "\n",
    "test.show_obstacles()"
   ]
  },
  {
   "cell_type": "code",
   "execution_count": null,
   "metadata": {
    "collapsed": false
   },
   "outputs": [],
   "source": [
    "s_f_s"
   ]
  },
  {
   "cell_type": "code",
   "execution_count": null,
   "metadata": {
    "collapsed": false
   },
   "outputs": [],
   "source": [
    "s"
   ]
  },
  {
   "cell_type": "code",
   "execution_count": null,
   "metadata": {
    "collapsed": false
   },
   "outputs": [],
   "source": [
    "m = re.findall('transform=\"(.*?)\"', s)"
   ]
  },
  {
   "cell_type": "code",
   "execution_count": null,
   "metadata": {
    "collapsed": false
   },
   "outputs": [],
   "source": [
    "m = m[0]"
   ]
  },
  {
   "cell_type": "code",
   "execution_count": null,
   "metadata": {
    "collapsed": false
   },
   "outputs": [],
   "source": [
    "m.startswith('matrix')"
   ]
  },
  {
   "cell_type": "code",
   "execution_count": null,
   "metadata": {
    "collapsed": false
   },
   "outputs": [],
   "source": [
    "m"
   ]
  },
  {
   "cell_type": "code",
   "execution_count": null,
   "metadata": {
    "collapsed": false
   },
   "outputs": [],
   "source": [
    "vals = re.findall('matrix\\((.*?)\\)', m)[0]"
   ]
  },
  {
   "cell_type": "code",
   "execution_count": null,
   "metadata": {
    "collapsed": false
   },
   "outputs": [],
   "source": [
    "re.split(',\\w*', vals)"
   ]
  },
  {
   "cell_type": "code",
   "execution_count": null,
   "metadata": {
    "collapsed": true
   },
   "outputs": [],
   "source": []
  }
 ],
 "metadata": {
  "anaconda-cloud": {},
  "kernelspec": {
   "display_name": "Python 3",
   "language": "python",
   "name": "python3"
  },
  "language_info": {
   "codemirror_mode": {
    "name": "ipython",
    "version": 3
   },
   "file_extension": ".py",
   "mimetype": "text/x-python",
   "name": "python",
   "nbconvert_exporter": "python",
   "pygments_lexer": "ipython3",
   "version": "3.6.0"
  }
 },
 "nbformat": 4,
 "nbformat_minor": 0
}
